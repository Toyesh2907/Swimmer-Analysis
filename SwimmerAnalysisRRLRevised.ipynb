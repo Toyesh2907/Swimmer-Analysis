{
  "cells": [
    {
      "cell_type": "code",
      "execution_count": null,
      "id": "G8gayQsN8h7F",
      "metadata": {
        "colab": {
          "base_uri": "https://localhost:8080/"
        },
        "id": "G8gayQsN8h7F",
        "outputId": "674559dc-018c-466e-c24d-ec73eeaa1ec9"
      },
      "outputs": [
        {
          "name": "stdout",
          "output_type": "stream",
          "text": [
            "Collecting mediapipe\n",
            "  Downloading mediapipe-0.10.11-cp310-cp310-manylinux_2_17_x86_64.manylinux2014_x86_64.whl (35.6 MB)\n",
            "\u001b[2K     \u001b[90m━━━━━━━━━━━━━━━━━━━━━━━━━━━━━━━━━━━━━━━━\u001b[0m \u001b[32m35.6/35.6 MB\u001b[0m \u001b[31m16.0 MB/s\u001b[0m eta \u001b[36m0:00:00\u001b[0m\n",
            "\u001b[?25hRequirement already satisfied: absl-py in /usr/local/lib/python3.10/dist-packages (from mediapipe) (1.4.0)\n",
            "Requirement already satisfied: attrs>=19.1.0 in /usr/local/lib/python3.10/dist-packages (from mediapipe) (23.2.0)\n",
            "Requirement already satisfied: flatbuffers>=2.0 in /usr/local/lib/python3.10/dist-packages (from mediapipe) (24.3.7)\n",
            "Requirement already satisfied: jax in /usr/local/lib/python3.10/dist-packages (from mediapipe) (0.4.23)\n",
            "Requirement already satisfied: jaxlib in /usr/local/lib/python3.10/dist-packages (from mediapipe) (0.4.23+cuda12.cudnn89)\n",
            "Requirement already satisfied: matplotlib in /usr/local/lib/python3.10/dist-packages (from mediapipe) (3.7.1)\n",
            "Requirement already satisfied: numpy in /usr/local/lib/python3.10/dist-packages (from mediapipe) (1.25.2)\n",
            "Requirement already satisfied: torch in /usr/local/lib/python3.10/dist-packages (from mediapipe) (2.2.1+cu121)\n",
            "Requirement already satisfied: opencv-contrib-python in /usr/local/lib/python3.10/dist-packages (from mediapipe) (4.8.0.76)\n",
            "Requirement already satisfied: protobuf<4,>=3.11 in /usr/local/lib/python3.10/dist-packages (from mediapipe) (3.20.3)\n",
            "Collecting sounddevice>=0.4.4 (from mediapipe)\n",
            "  Downloading sounddevice-0.4.6-py3-none-any.whl (31 kB)\n",
            "Requirement already satisfied: CFFI>=1.0 in /usr/local/lib/python3.10/dist-packages (from sounddevice>=0.4.4->mediapipe) (1.16.0)\n",
            "Requirement already satisfied: ml-dtypes>=0.2.0 in /usr/local/lib/python3.10/dist-packages (from jax->mediapipe) (0.2.0)\n",
            "Requirement already satisfied: opt-einsum in /usr/local/lib/python3.10/dist-packages (from jax->mediapipe) (3.3.0)\n",
            "Requirement already satisfied: scipy>=1.9 in /usr/local/lib/python3.10/dist-packages (from jax->mediapipe) (1.11.4)\n",
            "Requirement already satisfied: contourpy>=1.0.1 in /usr/local/lib/python3.10/dist-packages (from matplotlib->mediapipe) (1.2.0)\n",
            "Requirement already satisfied: cycler>=0.10 in /usr/local/lib/python3.10/dist-packages (from matplotlib->mediapipe) (0.12.1)\n",
            "Requirement already satisfied: fonttools>=4.22.0 in /usr/local/lib/python3.10/dist-packages (from matplotlib->mediapipe) (4.50.0)\n",
            "Requirement already satisfied: kiwisolver>=1.0.1 in /usr/local/lib/python3.10/dist-packages (from matplotlib->mediapipe) (1.4.5)\n",
            "Requirement already satisfied: packaging>=20.0 in /usr/local/lib/python3.10/dist-packages (from matplotlib->mediapipe) (24.0)\n",
            "Requirement already satisfied: pillow>=6.2.0 in /usr/local/lib/python3.10/dist-packages (from matplotlib->mediapipe) (9.4.0)\n",
            "Requirement already satisfied: pyparsing>=2.3.1 in /usr/local/lib/python3.10/dist-packages (from matplotlib->mediapipe) (3.1.2)\n",
            "Requirement already satisfied: python-dateutil>=2.7 in /usr/local/lib/python3.10/dist-packages (from matplotlib->mediapipe) (2.8.2)\n",
            "Requirement already satisfied: filelock in /usr/local/lib/python3.10/dist-packages (from torch->mediapipe) (3.13.1)\n",
            "Requirement already satisfied: typing-extensions>=4.8.0 in /usr/local/lib/python3.10/dist-packages (from torch->mediapipe) (4.10.0)\n",
            "Requirement already satisfied: sympy in /usr/local/lib/python3.10/dist-packages (from torch->mediapipe) (1.12)\n",
            "Requirement already satisfied: networkx in /usr/local/lib/python3.10/dist-packages (from torch->mediapipe) (3.2.1)\n",
            "Requirement already satisfied: jinja2 in /usr/local/lib/python3.10/dist-packages (from torch->mediapipe) (3.1.3)\n",
            "Requirement already satisfied: fsspec in /usr/local/lib/python3.10/dist-packages (from torch->mediapipe) (2023.6.0)\n",
            "Collecting nvidia-cuda-nvrtc-cu12==12.1.105 (from torch->mediapipe)\n",
            "  Downloading nvidia_cuda_nvrtc_cu12-12.1.105-py3-none-manylinux1_x86_64.whl (23.7 MB)\n",
            "\u001b[2K     \u001b[90m━━━━━━━━━━━━━━━━━━━━━━━━━━━━━━━━━━━━━━━━\u001b[0m \u001b[32m23.7/23.7 MB\u001b[0m \u001b[31m16.8 MB/s\u001b[0m eta \u001b[36m0:00:00\u001b[0m\n",
            "\u001b[?25hCollecting nvidia-cuda-runtime-cu12==12.1.105 (from torch->mediapipe)\n",
            "  Downloading nvidia_cuda_runtime_cu12-12.1.105-py3-none-manylinux1_x86_64.whl (823 kB)\n",
            "\u001b[2K     \u001b[90m━━━━━━━━━━━━━━━━━━━━━━━━━━━━━━━━━━━━━━━━\u001b[0m \u001b[32m823.6/823.6 kB\u001b[0m \u001b[31m16.5 MB/s\u001b[0m eta \u001b[36m0:00:00\u001b[0m\n",
            "\u001b[?25hCollecting nvidia-cuda-cupti-cu12==12.1.105 (from torch->mediapipe)\n",
            "  Downloading nvidia_cuda_cupti_cu12-12.1.105-py3-none-manylinux1_x86_64.whl (14.1 MB)\n",
            "\u001b[2K     \u001b[90m━━━━━━━━━━━━━━━━━━━━━━━━━━━━━━━━━━━━━━━━\u001b[0m \u001b[32m14.1/14.1 MB\u001b[0m \u001b[31m14.5 MB/s\u001b[0m eta \u001b[36m0:00:00\u001b[0m\n",
            "\u001b[?25hCollecting nvidia-cudnn-cu12==8.9.2.26 (from torch->mediapipe)\n",
            "  Downloading nvidia_cudnn_cu12-8.9.2.26-py3-none-manylinux1_x86_64.whl (731.7 MB)\n",
            "\u001b[2K     \u001b[90m━━━━━━━━━━━━━━━━━━━━━━━━━━━━━━━━━━━━━━━━\u001b[0m \u001b[32m731.7/731.7 MB\u001b[0m \u001b[31m718.5 kB/s\u001b[0m eta \u001b[36m0:00:00\u001b[0m\n",
            "\u001b[?25hCollecting nvidia-cublas-cu12==12.1.3.1 (from torch->mediapipe)\n",
            "  Downloading nvidia_cublas_cu12-12.1.3.1-py3-none-manylinux1_x86_64.whl (410.6 MB)\n",
            "\u001b[2K     \u001b[90m━━━━━━━━━━━━━━━━━━━━━━━━━━━━━━━━━━━━━━━━\u001b[0m \u001b[32m410.6/410.6 MB\u001b[0m \u001b[31m1.8 MB/s\u001b[0m eta \u001b[36m0:00:00\u001b[0m\n",
            "\u001b[?25hCollecting nvidia-cufft-cu12==11.0.2.54 (from torch->mediapipe)\n",
            "  Downloading nvidia_cufft_cu12-11.0.2.54-py3-none-manylinux1_x86_64.whl (121.6 MB)\n",
            "\u001b[2K     \u001b[90m━━━━━━━━━━━━━━━━━━━━━━━━━━━━━━━━━━━━━━━━\u001b[0m \u001b[32m121.6/121.6 MB\u001b[0m \u001b[31m1.9 MB/s\u001b[0m eta \u001b[36m0:00:00\u001b[0m\n",
            "\u001b[?25hCollecting nvidia-curand-cu12==10.3.2.106 (from torch->mediapipe)\n",
            "  Downloading nvidia_curand_cu12-10.3.2.106-py3-none-manylinux1_x86_64.whl (56.5 MB)\n",
            "\u001b[2K     \u001b[90m━━━━━━━━━━━━━━━━━━━━━━━━━━━━━━━━━━━━━━━━\u001b[0m \u001b[32m56.5/56.5 MB\u001b[0m \u001b[31m2.0 MB/s\u001b[0m eta \u001b[36m0:00:00\u001b[0m\n",
            "\u001b[?25hCollecting nvidia-cusolver-cu12==11.4.5.107 (from torch->mediapipe)\n",
            "  Downloading nvidia_cusolver_cu12-11.4.5.107-py3-none-manylinux1_x86_64.whl (124.2 MB)\n",
            "\u001b[2K     \u001b[90m━━━━━━━━━━━━━━━━━━━━━━━━━━━━━━━━━━━━━━━━\u001b[0m \u001b[32m124.2/124.2 MB\u001b[0m \u001b[31m2.4 MB/s\u001b[0m eta \u001b[36m0:00:00\u001b[0m\n",
            "\u001b[?25hCollecting nvidia-cusparse-cu12==12.1.0.106 (from torch->mediapipe)\n",
            "  Downloading nvidia_cusparse_cu12-12.1.0.106-py3-none-manylinux1_x86_64.whl (196.0 MB)\n",
            "\u001b[2K     \u001b[90m━━━━━━━━━━━━━━━━━━━━━━━━━━━━━━━━━━━━━━━━\u001b[0m \u001b[32m196.0/196.0 MB\u001b[0m \u001b[31m794.2 kB/s\u001b[0m eta \u001b[36m0:00:00\u001b[0m\n",
            "\u001b[?25hCollecting nvidia-nccl-cu12==2.19.3 (from torch->mediapipe)\n",
            "  Downloading nvidia_nccl_cu12-2.19.3-py3-none-manylinux1_x86_64.whl (166.0 MB)\n",
            "\u001b[2K     \u001b[90m━━━━━━━━━━━━━━━━━━━━━━━━━━━━━━━━━━━━━━━━\u001b[0m \u001b[32m166.0/166.0 MB\u001b[0m \u001b[31m1.2 MB/s\u001b[0m eta \u001b[36m0:00:00\u001b[0m\n",
            "\u001b[?25hCollecting nvidia-nvtx-cu12==12.1.105 (from torch->mediapipe)\n",
            "  Downloading nvidia_nvtx_cu12-12.1.105-py3-none-manylinux1_x86_64.whl (99 kB)\n",
            "\u001b[2K     \u001b[90m━━━━━━━━━━━━━━━━━━━━━━━━━━━━━━━━━━━━━━━━\u001b[0m \u001b[32m99.1/99.1 kB\u001b[0m \u001b[31m1.6 MB/s\u001b[0m eta \u001b[36m0:00:00\u001b[0m\n",
            "\u001b[?25hRequirement already satisfied: triton==2.2.0 in /usr/local/lib/python3.10/dist-packages (from torch->mediapipe) (2.2.0)\n",
            "Collecting nvidia-nvjitlink-cu12 (from nvidia-cusolver-cu12==11.4.5.107->torch->mediapipe)\n",
            "  Downloading nvidia_nvjitlink_cu12-12.4.99-py3-none-manylinux2014_x86_64.whl (21.1 MB)\n",
            "\u001b[2K     \u001b[90m━━━━━━━━━━━━━━━━━━━━━━━━━━━━━━━━━━━━━━━━\u001b[0m \u001b[32m21.1/21.1 MB\u001b[0m \u001b[31m2.1 MB/s\u001b[0m eta \u001b[36m0:00:00\u001b[0m\n",
            "\u001b[?25hRequirement already satisfied: pycparser in /usr/local/lib/python3.10/dist-packages (from CFFI>=1.0->sounddevice>=0.4.4->mediapipe) (2.21)\n",
            "Requirement already satisfied: six>=1.5 in /usr/local/lib/python3.10/dist-packages (from python-dateutil>=2.7->matplotlib->mediapipe) (1.16.0)\n",
            "Requirement already satisfied: MarkupSafe>=2.0 in /usr/local/lib/python3.10/dist-packages (from jinja2->torch->mediapipe) (2.1.5)\n",
            "Requirement already satisfied: mpmath>=0.19 in /usr/local/lib/python3.10/dist-packages (from sympy->torch->mediapipe) (1.3.0)\n",
            "Installing collected packages: nvidia-nvtx-cu12, nvidia-nvjitlink-cu12, nvidia-nccl-cu12, nvidia-curand-cu12, nvidia-cufft-cu12, nvidia-cuda-runtime-cu12, nvidia-cuda-nvrtc-cu12, nvidia-cuda-cupti-cu12, nvidia-cublas-cu12, sounddevice, nvidia-cusparse-cu12, nvidia-cudnn-cu12, nvidia-cusolver-cu12, mediapipe\n",
            "Successfully installed mediapipe-0.10.11 nvidia-cublas-cu12-12.1.3.1 nvidia-cuda-cupti-cu12-12.1.105 nvidia-cuda-nvrtc-cu12-12.1.105 nvidia-cuda-runtime-cu12-12.1.105 nvidia-cudnn-cu12-8.9.2.26 nvidia-cufft-cu12-11.0.2.54 nvidia-curand-cu12-10.3.2.106 nvidia-cusolver-cu12-11.4.5.107 nvidia-cusparse-cu12-12.1.0.106 nvidia-nccl-cu12-2.19.3 nvidia-nvjitlink-cu12-12.4.99 nvidia-nvtx-cu12-12.1.105 sounddevice-0.4.6\n"
          ]
        }
      ],
      "source": [
        "pip install mediapipe"
      ]
    },
    {
      "cell_type": "code",
      "execution_count": null,
      "id": "5f9ef710",
      "metadata": {
        "id": "5f9ef710"
      },
      "outputs": [],
      "source": [
        "import cv2\n",
        "import os\n",
        "import mediapipe as mp\n",
        "import time\n",
        "import numpy as np\n",
        "import pandas as pd\n",
        "import matplotlib.pyplot as plt"
      ]
    },
    {
      "cell_type": "code",
      "execution_count": null,
      "id": "ab911129",
      "metadata": {
        "id": "ab911129"
      },
      "outputs": [],
      "source": [
        "def calculate_form(angle1,angle2,angle3,angle4):\n",
        "    k1=1\n",
        "    k2=1\n",
        "    k3=1\n",
        "    k4=1\n",
        "    ans=k1*np.sin(np.deg2rad(angle1))+k2*np.sin(np.deg2rad(angle2))+k3*np.sin(np.deg2rad(angle3))+k4*np.sin(np.deg2rad(angle4))\n",
        "    if(ans>=0 and ans <=1):\n",
        "        return [\"VERY GOOD\",(0,255,0)]\n",
        "    elif(ans>1 and ans<=2):\n",
        "        return [\"GOOD\",(0,255,255)]\n",
        "    elif(ans>2 and ans<=3):\n",
        "        return [\"OKAY\",(0,165,255)]\n",
        "    elif(ans>3 and ans<4):\n",
        "        return [\"BAD\",(0,255,255)]"
      ]
    },
    {
      "cell_type": "code",
      "execution_count": null,
      "id": "6e3682d3",
      "metadata": {
        "id": "6e3682d3"
      },
      "outputs": [],
      "source": [
        "def relative_coords(landmark,shape):\n",
        "    x = landmark[0]\n",
        "    y = landmark[1]\n",
        "    relative_x = int(x * shape[1])\n",
        "    relative_y = int(y * shape[0])\n",
        "    return (relative_x,relative_y)"
      ]
    },
    {
      "cell_type": "code",
      "execution_count": null,
      "id": "1d1702a4",
      "metadata": {
        "id": "1d1702a4"
      },
      "outputs": [],
      "source": [
        "def relative_coordinates(landmark,shape):\n",
        "    x = landmark.x\n",
        "    y = landmark.y\n",
        "    relative_x = int(x * shape[1])\n",
        "    relative_y = int(y * shape[0])\n",
        "    return (relative_x,relative_y)"
      ]
    },
    {
      "cell_type": "code",
      "execution_count": null,
      "id": "d137fa87",
      "metadata": {
        "id": "d137fa87"
      },
      "outputs": [],
      "source": [
        "def calculate_angles(a,b,c):\n",
        "    a=np.array(a)#first\n",
        "    b=np.array(b)#mid\n",
        "    c=np.array(c)#end\n",
        "    radians=np.arctan2(c[1]-b[1],c[0]-b[0])-np.arctan2(a[1]-b[1],a[0]-b[0])\n",
        "    angle=np.abs(radians*180.0/np.pi)\n",
        "    if(angle>180):\n",
        "        angle=360-angle\n",
        "    return angle"
      ]
    },
    {
      "cell_type": "code",
      "execution_count": null,
      "id": "e11ec8c5",
      "metadata": {
        "id": "e11ec8c5"
      },
      "outputs": [],
      "source": [
        "mp_drawing = mp.solutions.drawing_utils\n",
        "mp_pose = mp.solutions.pose\n",
        "mp_holistic = mp.solutions.holistic"
      ]
    },
    {
      "cell_type": "code",
      "execution_count": null,
      "id": "a5938de4",
      "metadata": {
        "id": "a5938de4"
      },
      "outputs": [],
      "source": [
        "def visualize_drag (image,nose_coords,SM_coords,AM_coords,abdomen_coords,HM_coords):\n",
        "    if(nose_coords[0]<AM_coords[0]):\n",
        "\n",
        "        image = cv2.line(image, (nose_coords[0]-45-120,nose_coords[1]+45), (nose_coords[0]-45,nose_coords[1]+45),(225, 255, 255) , 2)\n",
        "        image = cv2.line(image, (nose_coords[0]-45-120,nose_coords[1]+65), (nose_coords[0]-45,nose_coords[1]+65),(225, 255, 255) , 2)\n",
        "\n",
        "        image = cv2.line(image, (nose_coords[0]-45,nose_coords[1]+45), (SM_coords[0],SM_coords[1]+80),(225, 255, 255) , 2)\n",
        "        image = cv2.line(image, (SM_coords[0],SM_coords[1]+80), (abdomen_coords[0],abdomen_coords[1]+80),(225, 255, 255) , 2)\n",
        "        image = cv2.line(image, (abdomen_coords[0],abdomen_coords[1]+80), (HM_coords[0],HM_coords[1]+80),(225, 255, 255) , 2)\n",
        "        image = cv2.line(image, (HM_coords[0],HM_coords[1]+80), (AM_coords[0],AM_coords[1]+80),(225, 255, 255) , 2)\n",
        "\n",
        "        image = cv2.line(image, (nose_coords[0]-45,nose_coords[1]+65), (SM_coords[0],SM_coords[1]+100),(225, 255, 255) , 2)\n",
        "        image = cv2.line(image, (SM_coords[0],SM_coords[1]+100), (abdomen_coords[0],abdomen_coords[1]+100),(225, 255, 255) , 2)\n",
        "        image = cv2.line(image, (abdomen_coords[0],abdomen_coords[1]+100), (HM_coords[0],HM_coords[1]+100),(225, 255, 255) , 2)\n",
        "        image = cv2.line(image, (HM_coords[0],HM_coords[1]+100), (AM_coords[0],AM_coords[1]+100),(225, 255, 255) , 2)\n",
        "\n",
        "        #image = cv2.line(image, (AM_coords[0],AM_coords[1]+100), (AM_coords[0]+70,AM_coords[1]+100),(225, 255, 255) , 2)\n",
        "        #image = cv2.line(image, (AM_coords[0]+70,AM_coords[1]+100), (AM_coords[0]+100,AM_coords[1]+50),(225, 255, 255) , 2)\n",
        "\n",
        "        #image = cv2.line(image, (AM_coords[0],AM_coords[1]+80), (AM_coords[0]+70,AM_coords[1]+80),(225, 255, 255) , 2)\n",
        "        #image = cv2.line(image, (AM_coords[0]+70,AM_coords[1]+80), (AM_coords[0]+100,AM_coords[1]+30),(225, 255, 255) , 2)\n",
        "        cv2.putText(image,\"SWIMMING LEFT\", (20, 200), cv2.FONT_HERSHEY_PLAIN, 3, (255, 10, 10), 2)\n",
        "\n",
        "    else:\n",
        "        image = cv2.line(image, (nose_coords[0]+120,nose_coords[1]+45), (nose_coords[0]+45,nose_coords[1]+45),(225, 255, 255) , 2)\n",
        "        image = cv2.line(image, (nose_coords[0]+120,nose_coords[1]+65), (nose_coords[0]+45,nose_coords[1]+65),(225, 255, 255) , 2)\n",
        "\n",
        "        image = cv2.line(image, (nose_coords[0]+45,nose_coords[1]+45), (SM_coords[0],SM_coords[1]+80),(225, 255, 255) , 2)\n",
        "        image = cv2.line(image, (SM_coords[0],SM_coords[1]+80), (abdomen_coords[0],abdomen_coords[1]+80),(225, 255, 255) , 2)\n",
        "        image = cv2.line(image, (abdomen_coords[0],abdomen_coords[1]+80), (HM_coords[0],HM_coords[1]+80),(225, 255, 255) , 2)\n",
        "        image = cv2.line(image, (HM_coords[0],HM_coords[1]+80), (AM_coords[0],AM_coords[1]+80),(225, 255, 255) , 2)\n",
        "\n",
        "        image = cv2.line(image, (nose_coords[0]+45,nose_coords[1]+65), (SM_coords[0],SM_coords[1]+100),(225, 255, 255) , 2)\n",
        "        image = cv2.line(image, (SM_coords[0],SM_coords[1]+100), (abdomen_coords[0],abdomen_coords[1]+100),(225, 255, 255) , 2)\n",
        "        image = cv2.line(image, (abdomen_coords[0],abdomen_coords[1]+100), (HM_coords[0],HM_coords[1]+100),(225, 255, 255) , 2)\n",
        "        image = cv2.line(image, (HM_coords[0],HM_coords[1]+100), (AM_coords[0],AM_coords[1]+100),(225, 255, 255) , 2)\n",
        "\n",
        "        #image = cv2.line(image, (AM_coords[0],AM_coords[1]+100), (AM_coords[0]-70,AM_coords[1]+100),(225, 255, 255) , 2)\n",
        "        #image = cv2.line(image, (AM_coords[0]-70,AM_coords[1]+100), (AM_coords[0]-100,AM_coords[1]+50),(225, 255, 255) , 2)\n",
        "\n",
        "        #image = cv2.line(image, (AM_coords[0],AM_coords[1]+80), (AM_coords[0]-70,AM_coords[1]+80),(225, 255, 255) , 2)\n",
        "        #image = cv2.line(image, (AM_coords[0]-70,AM_coords[1]+80), (AM_coords[0]-100,AM_coords[1]+30),(225, 255, 255) , 2)\n",
        "        cv2.putText(image,\"SWIMMING RIGHT\", (20, 200), cv2.FONT_HERSHEY_PLAIN, 3, form[1], 2)\n",
        "\n"
      ]
    },
    {
      "cell_type": "code",
      "execution_count": null,
      "id": "da8c79e7",
      "metadata": {
        "id": "da8c79e7"
      },
      "outputs": [],
      "source": [
        "def show_body_points(image,nose_coords,LS_coords,RS_coords, LH_coords,RH_coords,LA_coords,RA_coords,abdomen_coords):\n",
        "    cv2.circle(image, nose_coords, radius=1, color=(0, 0, 255), thickness=4)\n",
        "    cv2.circle(image, LS_coords, radius=1, color=(225, 0, 100), thickness=4)\n",
        "    cv2.circle(image, RS_coords, radius=1, color=(225, 255, 100), thickness=4)\n",
        "    cv2.circle(image, LH_coords, radius=1, color=(225, 0, 100), thickness=4)\n",
        "    cv2.circle(image, RH_coords, radius=1, color=(225, 255, 100), thickness=4)\n",
        "    cv2.circle(image, LA_coords, radius=1, color=(225, 0, 100), thickness=4)\n",
        "    cv2.circle(image, RA_coords, radius=1, color=(225, 255, 100), thickness=4)\n",
        "    cv2.circle(image, abdomen_coords, radius=1, color=(0, 0, 0), thickness=4)"
      ]
    },
    {
      "cell_type": "code",
      "execution_count": null,
      "id": "1d69d8c7",
      "metadata": {
        "id": "1d69d8c7"
      },
      "outputs": [],
      "source": [
        "def show_body_connections(image,nose_coords, SM_coords,HM_coords, AM_coords,LS_coords, LH_coords,LA_coords,RS_coords, RH_coords,RA_coords):\n",
        "    image = cv2.line(image, nose_coords, SM_coords,(0, 0, 255) , 2)\n",
        "    image = cv2.line(image, SM_coords, HM_coords,(0, 0, 255) , 2)\n",
        "    image = cv2.line(image, HM_coords, AM_coords,(0, 0, 255) , 2)\n",
        "\n",
        "    image = cv2.line(image, LS_coords, LH_coords,(225, 0, 100) , 1)\n",
        "    image = cv2.line(image, LH_coords, LA_coords,(225, 0, 100) , 1)\n",
        "\n",
        "\n",
        "    image = cv2.line(image, RS_coords, RH_coords,(225, 255, 100) , 1)\n",
        "    image = cv2.line(image, RH_coords, RA_coords,(225, 255, 100) , 1)"
      ]
    },
    {
      "cell_type": "code",
      "execution_count": null,
      "id": "509d5dad",
      "metadata": {
        "id": "509d5dad"
      },
      "outputs": [],
      "source": [
        "#cap = cv2.VideoCapture(0)\n",
        "#provide video path\n",
        "\n",
        "videofile=\"Smooth_swimming_\"\n",
        "#videofile=\"20231118_193452\"\n",
        "#videofile=\"20231118_193434\"\n",
        "\n",
        "inpfile=videofile+\"_In.mp4\"\n",
        "outfile=videofile+\"_Out.avi\"\n",
        "\n",
        "\n",
        "cap = cv2.VideoCapture(inpfile)\n",
        "frame_width = int(cap.get(3))\n",
        "frame_height = int(cap.get(4))\n",
        "\n",
        "size = (frame_width, frame_height)\n",
        "fourcc = cv2.VideoWriter_fourcc(*'XVID')\n",
        "output = cv2.VideoWriter(outfile,fourcc, 20, size)\n",
        "#For Video input:\n",
        "prevTime = 0\n",
        "with mp_pose.Pose(min_detection_confidence=0.5,min_tracking_confidence=0.5) as pose:\n",
        "    while cap.isOpened():\n",
        "        success, image = cap.read()\n",
        "        if not success:\n",
        "            print(\"Ignoring empty camera frame.\")\n",
        "          # If loading a video, use 'break' instead of 'continue'.\n",
        "            continue#\n",
        "\n",
        "        # Convert the BGR image to RGB.\n",
        "        image = cv2.cvtColor(image, cv2.COLOR_BGR2RGB)\n",
        "        image.flags.writeable = False\n",
        "        results = pose.process(image)\n",
        "        try:\n",
        "            landmarks = results.pose_landmarks.landmark\n",
        "        except:\n",
        "            pass\n",
        "\n",
        "        # Draw the pose annotation on the image.\n",
        "        image.flags.writeable = True\n",
        "        image = cv2.cvtColor(image, cv2.COLOR_RGB2BGR)\n",
        "        #mp_drawing.draw_landmarks(image, results.pose_landmarks, mp_pose.POSE_CONNECTIONS)\n",
        "        currTime = time.time()\n",
        "        fps = 1 / (currTime - prevTime)\n",
        "        prevTime = currTime\n",
        "        cv2.putText(image, f'FPS: {int(fps)}', (20, 100), cv2.FONT_HERSHEY_PLAIN, 3, (0, 196, 255), 2)\n",
        "\n",
        "        nose=[landmarks[0].x,landmarks[0].y]\n",
        "        left_shoulder=[landmarks[11].x,landmarks[11].y]\n",
        "        right_shoulder=[landmarks[12].x,landmarks[12].y]\n",
        "        right_hip=[landmarks[24].x,landmarks[24].y]\n",
        "        left_hip=[landmarks[23].x,landmarks[23].y]\n",
        "        right_ankle=[landmarks[28].x,landmarks[28].y]\n",
        "        left_ankle=[landmarks[27].x,landmarks[27].y]\n",
        "\n",
        "        shoulder_mid_point=[(right_shoulder[0]+left_shoulder[0])/2,(right_shoulder[1]+left_shoulder[1])/2]\n",
        "        hip_mid_point=[(right_hip[0]+left_hip[0])/2,(right_hip[1]+left_hip[1])/2]\n",
        "        ankle_mid_point=[(right_ankle[0]+left_ankle[0])/2,(right_ankle[1]+left_ankle[1])/2]\n",
        "\n",
        "        nose_shoulder_mid_point_angle=calculate_angles(nose,shoulder_mid_point,[nose[0],shoulder_mid_point[1]])\n",
        "        shoulder_mid_point_hip_mid_point_angle=calculate_angles(shoulder_mid_point,hip_mid_point,[shoulder_mid_point[0],hip_mid_point[1]])\n",
        "        right_hip_right_ankle_angle=calculate_angles(right_hip,right_ankle,[right_hip[0],right_ankle[1]])\n",
        "        left_hip_left_ankle_angle=calculate_angles(left_hip,left_ankle,[left_hip[0],left_ankle[1]])\n",
        "\n",
        "        form=calculate_form(nose_shoulder_mid_point_angle,shoulder_mid_point_hip_mid_point_angle,right_hip_right_ankle_angle,left_hip_left_ankle_angle)\n",
        "        shape=image.shape\n",
        "\n",
        "        nose_coords=relative_coordinates(landmarks[0],shape)\n",
        "        LS_coords=relative_coordinates(landmarks[11],shape)\n",
        "        RS_coords=relative_coordinates(landmarks[12],shape)\n",
        "        LH_coords=relative_coordinates(landmarks[23],shape)\n",
        "        RH_coords=relative_coordinates(landmarks[24],shape)\n",
        "        LA_coords=relative_coordinates(landmarks[27],shape)\n",
        "        RA_coords=relative_coordinates(landmarks[28],shape)\n",
        "        SM_coords=relative_coords(shoulder_mid_point,shape)\n",
        "        HM_coords=relative_coords(hip_mid_point,shape)\n",
        "        AM_coords=relative_coords(ankle_mid_point,shape)\n",
        "        abdomen_coords=(SM_coords[0]+HM_coords[0],SM_coords[1]+HM_coords[1])\n",
        "        abdomen_coords=(int(abdomen_coords[0]/2),int(abdomen_coords[1]/2))\n",
        "\n",
        "        show_body_connections(image,nose_coords, SM_coords,HM_coords, AM_coords,LS_coords, LH_coords,LA_coords,RS_coords, RH_coords,RA_coords)\n",
        "        show_body_points(image,nose_coords,LS_coords,RS_coords, LH_coords,RH_coords,LA_coords,RA_coords,abdomen_coords)\n",
        "        visualize_drag (image,nose_coords,SM_coords,AM_coords,abdomen_coords,HM_coords)\n",
        "\n",
        "\n",
        "        cv2.putText(image,form[0], (20, 150), cv2.FONT_HERSHEY_PLAIN, 3, form[1], 2)\n",
        "\n",
        "        cv2.imshow('Swimmer Landmarks', image)\n",
        "\n",
        "        #SAVE THE VEDIO\n",
        "\n",
        "        output.write(image)\n",
        "        if cv2.waitKey(1) & 0xFF == ord('q'):\n",
        "            break\n",
        "cap.release()\n",
        "#output.release()\n",
        "cv2.destroyAllWindows()"
      ]
    },
    {
      "cell_type": "code",
      "execution_count": null,
      "id": "62d8bd03",
      "metadata": {
        "id": "62d8bd03"
      },
      "outputs": [],
      "source": []
    },
    {
      "cell_type": "code",
      "execution_count": null,
      "id": "c4c15d78",
      "metadata": {
        "id": "c4c15d78"
      },
      "outputs": [],
      "source": []
    }
  ],
  "metadata": {
    "colab": {
      "provenance": []
    },
    "kernelspec": {
      "display_name": "Python 3 (ipykernel)",
      "language": "python",
      "name": "python3"
    },
    "language_info": {
      "codemirror_mode": {
        "name": "ipython",
        "version": 3
      },
      "file_extension": ".py",
      "mimetype": "text/x-python",
      "name": "python",
      "nbconvert_exporter": "python",
      "pygments_lexer": "ipython3",
      "version": "3.11.7"
    }
  },
  "nbformat": 4,
  "nbformat_minor": 5
}
